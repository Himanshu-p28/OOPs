{
  "nbformat": 4,
  "nbformat_minor": 0,
  "metadata": {
    "colab": {
      "provenance": []
    },
    "kernelspec": {
      "name": "python3",
      "display_name": "Python 3"
    },
    "language_info": {
      "name": "python"
    }
  },
  "cells": [
    {
      "cell_type": "markdown",
      "source": [
        " **Q1. What are the five key concepts of Object-Oriented Programming (OOP)?**\n",
        "\n",
        " **Sol.**The five key OOP concepts in the context of Python:\n",
        " 1. **Classes and Objects:**\n",
        "     \n",
        "      A **class** is a blueprint for creating objects. It defines attributes (variables) and methods (functions) that the created objects (instances) will have.\n",
        "      \n",
        "      An **object** is an instance of a class. It is a concrete manifestation of the class with its own set of data and functionality defined by the class."
      ],
      "metadata": {
        "id": "o3yzJUIdueuV"
      }
    },
    {
      "cell_type": "code",
      "source": [
        "#For example\n",
        "\n",
        "class Admission:                 #Class named \"admission\" is created\n",
        "    def __init__(self, name, std):\n",
        "      \"\"\"Constructer of class\n",
        "      \"\"\"\n",
        "      self.name = name\n",
        "      self.std = std\n",
        "\n",
        "    def fxn(self):\n",
        "      \"\"\"function returns the values enterd via constructor\n",
        "      \"\"\"\n",
        "      return self.name, self.std\n",
        "\n",
        "\n",
        "var=Admission(\"Pie\",25)      # object for the class is created named var.\n",
        "\n",
        "print(var.fxn())"
      ],
      "metadata": {
        "colab": {
          "base_uri": "https://localhost:8080/"
        },
        "id": "diYIU5McxGKt",
        "outputId": "d30fea0a-0165-45eb-da17-fc6ca2d7265b"
      },
      "execution_count": null,
      "outputs": [
        {
          "output_type": "stream",
          "name": "stdout",
          "text": [
            "('Pie', 25)\n"
          ]
        }
      ]
    },
    {
      "cell_type": "markdown",
      "source": [
        "2. **Encapsulation:**\n",
        "Encapsulation is achieved by using classes to bundle data and methods together. Python uses naming conventions (like a single underscore _ for protected members and double underscores __ for private members) to indicate the intended visibility of attributes and methods."
      ],
      "metadata": {
        "id": "tV4mfB8azJP9"
      }
    },
    {
      "cell_type": "code",
      "source": [
        "#Example of Encapsulation\n",
        "\n",
        "class Person:\n",
        "    def __init__(self, name, age):\n",
        "        self.__name = name  # Private attribute\n",
        "        self.age = age\n",
        "\n",
        "    def return_value(self):\n",
        "        return self.__name\n",
        "\n",
        "P1= Person(\"Ironman\", 25)\n",
        "print(P1.return_value())"
      ],
      "metadata": {
        "colab": {
          "base_uri": "https://localhost:8080/"
        },
        "id": "YzkIzf7J0GxR",
        "outputId": "96b7fb09-479b-4e77-ec8c-839ac4a90327"
      },
      "execution_count": null,
      "outputs": [
        {
          "output_type": "stream",
          "name": "stdout",
          "text": [
            "Ironman\n"
          ]
        }
      ]
    },
    {
      "cell_type": "markdown",
      "source": [
        "3. **Inheritance:**\n",
        "It allows a class to inherit attributes and methods from another class. Python supports single and multiple inheritance, allowing a class to inherit from one or more base classes."
      ],
      "metadata": {
        "id": "GR5TN1Ug1SC2"
      }
    },
    {
      "cell_type": "code",
      "source": [
        "#Inheritance example\n",
        "\n",
        "class Class_A:\n",
        "    def fxn(self):\n",
        "        return \"Inside Class_A\"\n",
        "\n",
        "class Class_B(Class_A):\n",
        "  def msg(self):\n",
        "    return \"Hello It's Class_B !\"\n",
        "\n",
        "obj1=Class_B()        # Object of class B\n",
        "\n",
        "print(obj1.fxn())\n",
        "print(obj1.msg())\n"
      ],
      "metadata": {
        "colab": {
          "base_uri": "https://localhost:8080/"
        },
        "id": "lxlUHytn1dvM",
        "outputId": "c88378db-bb2e-499d-9984-16e669dd7965"
      },
      "execution_count": null,
      "outputs": [
        {
          "output_type": "stream",
          "name": "stdout",
          "text": [
            "Inside Class_A\n",
            "Hello It's Class_B !\n"
          ]
        }
      ]
    },
    {
      "cell_type": "markdown",
      "source": [
        "4. **Polymorphism:**\n",
        "It allows methods to do different things based on the object it is acting upon. It includes method overriding *(where a subclass provides a specific implementation of a method defined in its superclass)* and method overloading *(although Python does not support method overloading in the traditional sense, it can be achieved through default arguments or variable-length arguments)*."
      ],
      "metadata": {
        "id": "LBF47wML9Ikv"
      }
    },
    {
      "cell_type": "code",
      "source": [
        "#Example of polymorphism\n",
        "\n",
        "class College_A:\n",
        "    def fxn(self):\n",
        "        return \"It's College_A\"\n",
        "\n",
        "class College_B(College_A):\n",
        "    def fxn(self):\n",
        "        return \"It's College_B\"\n",
        "\n",
        "class College_C(College_A):\n",
        "    def fxn(self):\n",
        "        return \"It's College_C\"\n",
        "\n",
        "A = College_A()\n",
        "B = College_B()\n",
        "C = College_C()\n",
        "\n",
        "print(A.fxn())\n",
        "print(B.fxn())\n",
        "print(C.fxn())\n"
      ],
      "metadata": {
        "colab": {
          "base_uri": "https://localhost:8080/"
        },
        "id": "LGfm_2On-OLv",
        "outputId": "ff841bb9-7919-4faa-ce58-a3fe8925c703"
      },
      "execution_count": null,
      "outputs": [
        {
          "output_type": "stream",
          "name": "stdout",
          "text": [
            "It's College_A\n",
            "It's College_B\n",
            "It's College_C\n"
          ]
        }
      ]
    },
    {
      "cell_type": "markdown",
      "source": [
        "5. **Composition:**It involves constructing classes by combining objects of other classes. Instead of inheriting from a superclass, a class can include instances of other classes as attributes, promoting more flexible and reusable code structures.\n"
      ],
      "metadata": {
        "id": "KPXrV6Ds_1AG"
      }
    },
    {
      "cell_type": "code",
      "source": [
        "#Example of composition\n",
        "class Engine:\n",
        "    def start(self):\n",
        "        return \"Engine starts\"\n",
        "\n",
        "class Car:\n",
        "    def __init__(self):\n",
        "        self.engine = Engine()  # Car has an Engine\n",
        "\n",
        "    def start(self):\n",
        "        return self.engine.start()  # Delegates to Engine's start method\n",
        "\n",
        "my_car = Car()\n",
        "print(my_car.start())  # Output: Engine starts\n"
      ],
      "metadata": {
        "colab": {
          "base_uri": "https://localhost:8080/"
        },
        "id": "tdpTHtR-_1e4",
        "outputId": "8747c5e0-eb76-4cb1-f5a6-45dd99a1627d"
      },
      "execution_count": null,
      "outputs": [
        {
          "output_type": "stream",
          "name": "stdout",
          "text": [
            "Engine starts\n"
          ]
        }
      ]
    },
    {
      "cell_type": "markdown",
      "source": [
        "**Q2. Write a Python class for a `Car` with attributes for `make`, `model`, and `year`. Include a method to display the car's information.**"
      ],
      "metadata": {
        "id": "kcVpRh4vlBSO"
      }
    },
    {
      "cell_type": "code",
      "execution_count": 75,
      "metadata": {
        "colab": {
          "base_uri": "https://localhost:8080/"
        },
        "id": "vEnLXoRSI0Ss",
        "outputId": "9ae92750-d897-4599-d35c-8628b13c97fe"
      },
      "outputs": [
        {
          "output_type": "stream",
          "name": "stdout",
          "text": [
            "('BMW', 'Sedan', 2020)\n",
            "('Audi', 'Suv', 2015)\n",
            "('Bentley', 'Limo', 2024)\n"
          ]
        }
      ],
      "source": [
        " class Cars:\n",
        "  def __init__(self,make,model,year):\n",
        "    #print(\"Constructor initiated...\")\n",
        "    self.make=make\n",
        "    self.model=model\n",
        "    self.year=year\n",
        "\n",
        "  def display_info(self):                 # method to display car info.\n",
        "    return self.make,self.model,self.year\n",
        "\n",
        "car1=Cars(\"BMW\",\"Sedan\",2020)\n",
        "car2=Cars(\"Audi\",\"Suv\",2015)\n",
        "car3=Cars(\"Bentley\",\"Limo\",2024)\n",
        "\n",
        "print(car1.display_info())\n",
        "print(car2.display_info())\n",
        "print(car3.display_info())\n"
      ]
    },
    {
      "cell_type": "markdown",
      "source": [
        "**Q3.  Explain the difference between instance methods and class methods. Provide an example of each.**\n",
        "\n",
        "**Sol.**In object-oriented programming, instance methods and class methods are two types of methods used in classes, and they have different purposes and characteristics.\n",
        "\n",
        "**Instance methods** are the most common type of methods in classes. They are associated with instances of a class and operate on the instance’s data. When defining an instance method, the method’s first parameter is typically named self, which refers to the instance calling the method. This allows the method to access and manipulate the instance’s attributes.\n",
        "\n",
        "Syntax:\n",
        "\n",
        "```\n",
        "class MyClass:\n",
        "   def instance_method(self, arg1, arg2, ...):\n",
        "       # Instance method logic here\n",
        "       pass\n",
        "```\n",
        "\n",
        "\n",
        "*For example:*"
      ],
      "metadata": {
        "id": "mFGMqF-6G4tA"
      }
    },
    {
      "cell_type": "code",
      "source": [
        "class Person:\n",
        "    def __init__(self, name, age):\n",
        "        self.name = name\n",
        "        self.age = age\n",
        "\n",
        "    def introduce(self):\n",
        "        return f\"Hi, I'm {self.name} and I'm {self.age} years old.\"\n",
        "\n",
        "\n",
        "# Creating an instance of the class\n",
        "person1 = Person(\"Tony Stark\", 48)\n",
        "\n",
        "# Calling the instance method\n",
        "print(person1.introduce())"
      ],
      "metadata": {
        "colab": {
          "base_uri": "https://localhost:8080/"
        },
        "id": "6t5lrqrGNJrE",
        "outputId": "c60e5f6a-3c66-4f06-d607-c11e14894ca7"
      },
      "execution_count": 33,
      "outputs": [
        {
          "output_type": "stream",
          "name": "stdout",
          "text": [
            "Hi, I'm Tony Stark and I'm 48 years old.\n"
          ]
        }
      ]
    },
    {
      "cell_type": "markdown",
      "source": [
        "*the Person class defines an instance method introduce which returns a formatted introduction based on the instance’s name and age attributes. The instance person1 is created with the name “Kishan” and age 20, and invoking the introduce method prints a personalized introduction for that instance. Note that there’s a small typo in the comment mentioning the age; it should be 20 instead of 30.*"
      ],
      "metadata": {
        "id": "W9o59YlmM8R4"
      }
    },
    {
      "cell_type": "markdown",
      "source": [
        "**Class methods** are associated with the class rather than instances. They are defined using the @classmethod decorator and take the class itself as the first parameter, usually named cls. Class methods are useful for tasks that involve the class rather than the instance, such as creating class-specific behaviors or modifying class-level attributes.\n",
        "\n",
        "Syntax:\n",
        "\n",
        "```\n",
        "class C(object):\n",
        "    @classmethod\n",
        "    def fun(cls, arg1, arg2, ...):\n",
        "       ....\n",
        "fun: function that needs to be converted into a class method\n",
        "returns: a class method for function.\n",
        "```\n",
        "\n",
        "*For example:*\n"
      ],
      "metadata": {
        "id": "7JFMUXnJNvLr"
      }
    },
    {
      "cell_type": "code",
      "source": [
        "class MyClass:\n",
        "    class_variable = 0\n",
        "\n",
        "    def __init__(self, value):\n",
        "        self.instance_variable = value\n",
        "\n",
        "    @classmethod\n",
        "    def class_method(cls, x):\n",
        "        cls.class_variable += x\n",
        "        return cls.class_variable\n",
        "\n",
        "# Creating instances of the class\n",
        "obj1 = MyClass(5)\n",
        "obj2 = MyClass(10)\n",
        "\n",
        "# Calling the class method\n",
        "print(MyClass.class_method(3))\n",
        "print(MyClass.class_method(7))"
      ],
      "metadata": {
        "colab": {
          "base_uri": "https://localhost:8080/"
        },
        "id": "0udpM2tvOfnt",
        "outputId": "62f445e3-d5d4-4cb2-ea9f-12368029538b"
      },
      "execution_count": null,
      "outputs": [
        {
          "output_type": "stream",
          "name": "stdout",
          "text": [
            "3\n",
            "10\n"
          ]
        }
      ]
    },
    {
      "cell_type": "markdown",
      "source": [
        "*In this example,the MyClass defines a class variable class_variable, and the class_method is a class method that increments this variable. When calling the method with different values, it updates and returns the modified class variable. Instances obj1 and obj2 have their own instance_variable.*"
      ],
      "metadata": {
        "id": "mwS43ZsgOgRg"
      }
    },
    {
      "cell_type": "markdown",
      "source": [
        "**Q4.  How does Python implement method overloading? Give an example.**\n",
        "\n",
        "**Sol.**\n",
        "When two or more methods have the same name but different numbers of parameters or different types of parameters, or both this is called **method overloading**.\n",
        "\n",
        "Python detects the number and type of parameters give with the method and executes a particular method.\n",
        "\n",
        "For **eg**:"
      ],
      "metadata": {
        "id": "Uqc_kE4WPaES"
      }
    },
    {
      "cell_type": "code",
      "source": [
        "#Lets say we have to add some values\n",
        "\n",
        "from multipledispatch import dispatch\n",
        "\n",
        "class Sum:\n",
        "\n",
        "  @dispatch(int,int)\n",
        "  def var(a,b):                             # executes when two integer argunments are given at the time of calling the function\n",
        "    return a+b\n",
        "\n",
        "  @dispatch(int,int,int)                    # executes when three integer argunments are given at the time of calling the function\n",
        "  def var(a,b,c):\n",
        "    return a+b+c\n",
        "\n",
        "  @dispatch(str,str)                        # executes when two string argunments are given at the time of calling the function\n",
        "  def var(a,b):\n",
        "    return a+b\n",
        "\n",
        "  @dispatch(str,int)                        # executes when first arg is string and other arg is integer will be given at the time of calling the function\n",
        "  def var(a,b):\n",
        "    b=str(b)\n",
        "    return a+b\n",
        "\n",
        "obj1 = Sum()\n",
        "\n",
        "print(obj1.var(5,3))\n",
        "print(obj1.var(2,4,6))\n",
        "print(obj1.var(\"Hi \",\"Function\"))\n",
        "print(obj1.var(\"Hello! \",23))\n"
      ],
      "metadata": {
        "colab": {
          "base_uri": "https://localhost:8080/"
        },
        "id": "Y3kbYstWLZlz",
        "outputId": "ad8b5523-6e1c-4179-e287-356fa75ebe85"
      },
      "execution_count": 11,
      "outputs": [
        {
          "output_type": "stream",
          "name": "stdout",
          "text": [
            "8\n",
            "12\n",
            "Hi Function\n",
            "Hello! 23\n"
          ]
        }
      ]
    },
    {
      "cell_type": "markdown",
      "source": [
        "**Q5.What are the three types of access modifiers in Python? How are they denoted?**\n",
        "**Sol.** Classes have three types of access modifiers.\n",
        "  1. Public access modifier\n",
        "  2. Private access modifier\n",
        "  3. Protected access modifier\n",
        "\n",
        "**Public Access Modifier:** The members of a class that are declared public are easily accessible from any part of the program. All data members and member functions of a class are public by default.\n",
        "\n",
        "*Syntax:*\n",
        "```\n",
        "class Class_name:\n",
        "      #logic\n",
        "```\n",
        "\n",
        "**Eg:**"
      ],
      "metadata": {
        "id": "kCzvBsmeQ8F2"
      }
    },
    {
      "cell_type": "code",
      "source": [
        "class Student:\n",
        "   def __init__(self, name, age):\n",
        "      self.name = name                             #by default public\n",
        "      self.age = age\n",
        "\n",
        "   def display(self):                              # by default public\n",
        "      print(\"Name:\", self.name)\n",
        "      print(\"Age :\", self.age)\n",
        "\n",
        "obj = Student(\"Elon Musk\", 43)\n",
        "obj.display()                                     #can be accessed directly\n",
        "obj.name                                          #can be accessed directly"
      ],
      "metadata": {
        "colab": {
          "base_uri": "https://localhost:8080/",
          "height": 70
        },
        "id": "0IxxACoKfgfW",
        "outputId": "2428a4c7-2716-4d17-dbd1-4acd737afb10"
      },
      "execution_count": 20,
      "outputs": [
        {
          "output_type": "stream",
          "name": "stdout",
          "text": [
            "Name: Elon Musk\n",
            "Age : 43\n"
          ]
        },
        {
          "output_type": "execute_result",
          "data": {
            "text/plain": [
              "'Elon Musk'"
            ],
            "application/vnd.google.colaboratory.intrinsic+json": {
              "type": "string"
            }
          },
          "metadata": {},
          "execution_count": 20
        }
      ]
    },
    {
      "cell_type": "markdown",
      "source": [
        "**Private Access Modifier:** The members of a class that are declared private are accessible within the class only, private access modifier is the most secure access modifier. Data members of a class are declared private by adding a double underscore ‘__’ symbol before the data member of that class.\n",
        "\n",
        "*Syntax:*\n",
        "\n",
        "```\n",
        "class Class_name:\n",
        "    def __init__(self,name,val):\n",
        "        self.__name = name\n",
        "        self.__val = val\n",
        "```\n",
        "\n",
        "**Eg:**"
      ],
      "metadata": {
        "id": "dz9-twd_fxKP"
      }
    },
    {
      "cell_type": "code",
      "source": [
        "class Student:\n",
        "   def __init__(self, name, age):\n",
        "      self.__name = name                             #\"__\" makes them private\n",
        "      self.__age = age\n",
        "\n",
        "   def __display(self):                              # private method\n",
        "      print(\"Name:\", self.__name)\n",
        "      print(\"Age :\", self.__age)\n",
        "\n",
        "obj = Student(\"Elon Musk\", 43)\n",
        "#obj.__display()                                     #gives error\n",
        "obj._Student__display()\n",
        "\n",
        "#obj.__name                                            # gives error\n",
        "obj._Student__name"
      ],
      "metadata": {
        "colab": {
          "base_uri": "https://localhost:8080/",
          "height": 70
        },
        "id": "E8DXSyPMf9Ho",
        "outputId": "9e210163-b275-4fbf-a783-44124c7c7920"
      },
      "execution_count": 26,
      "outputs": [
        {
          "output_type": "stream",
          "name": "stdout",
          "text": [
            "Name: Elon Musk\n",
            "Age : 43\n"
          ]
        },
        {
          "output_type": "execute_result",
          "data": {
            "text/plain": [
              "'Elon Musk'"
            ],
            "application/vnd.google.colaboratory.intrinsic+json": {
              "type": "string"
            }
          },
          "metadata": {},
          "execution_count": 26
        }
      ]
    },
    {
      "cell_type": "markdown",
      "source": [
        "**Protected Access Modifier:** The members of a class that are declared protected are only accessible within the class where it is declared and its subclass.\n",
        "\n",
        "a single underscore “_” is used to describe a protected data member or method of the class.\n",
        "\n",
        "*Syntax:*\n",
        "```\n",
        "# class Student:\n",
        "    def __init__(self,name,roll):\n",
        "        self._name= name           \n",
        "        self._roll= roll\n",
        "```\n",
        "\n",
        "**Eg:**"
      ],
      "metadata": {
        "id": "pexFvf0uf-E3"
      }
    },
    {
      "cell_type": "code",
      "source": [
        "class Student:\n",
        "   def __init__(self, name, age):\n",
        "      self._name = name                             #\"_\" makes them protected\n",
        "      self._age = age\n",
        "\n",
        "   def _display(self):                              # protected method\n",
        "      print(\"Name:\", self._name)\n",
        "      print(\"Age :\", self._age)\n",
        "\n",
        "obj = Student(\"Elon Musk\", 43)\n",
        "#obj.display()                                     #gives error\n",
        "obj._display()\n",
        "\n",
        "#obj.name                                            # gives error\n",
        "obj._name"
      ],
      "metadata": {
        "colab": {
          "base_uri": "https://localhost:8080/",
          "height": 70
        },
        "id": "h-Oz5gibhSBP",
        "outputId": "c1109613-2020-4eab-8d44-b45ec5fa09dd"
      },
      "execution_count": 30,
      "outputs": [
        {
          "output_type": "stream",
          "name": "stdout",
          "text": [
            "Name: Elon Musk\n",
            "Age : 43\n"
          ]
        },
        {
          "output_type": "execute_result",
          "data": {
            "text/plain": [
              "'Elon Musk'"
            ],
            "application/vnd.google.colaboratory.intrinsic+json": {
              "type": "string"
            }
          },
          "metadata": {},
          "execution_count": 30
        }
      ]
    },
    {
      "cell_type": "markdown",
      "source": [
        "**Q6. Describe the five types of inheritance in Python. Provide a simple example of multiple inheritance.**\n",
        "\n",
        "**Sol.**The five types of Inheritance in python are:\n",
        " 1. Single Inheritance\n",
        " 2. Multiple Inheritance\n",
        " 3. Multilevel Inheritance\n",
        " 4. Hierarchical Inheritance\n",
        " 5. Hybrid Inheritance\n",
        "\n",
        "\n",
        "1. *Single Inheritance:*\n",
        "\n",
        "  This is the simplest form of inheritance where a child class inherits attributes and methods from only one parent class.\n",
        "\n",
        "  Syntax:\n",
        "\n",
        "\n",
        "```\n",
        "class Class_A():\n",
        "    #statement\n",
        "\n",
        "class Class_B(Class_A):\n",
        "    #statement\n",
        "```\n",
        "  *here Class_A is parent class and class_B is child class. Child class is more powerful the parent class.*"
      ],
      "metadata": {
        "id": "v7N6S2YLlm_l"
      }
    },
    {
      "cell_type": "markdown",
      "source": [
        " 2. *Multiple Inheritance:*\n",
        "\n",
        " Multiple inheritance in Python allows us to construct a class based on more than one parent classes. The Child class thus inherits the attributes and method from all parents. The child can override methods inherited from any parent.\n",
        "\n",
        " Syntax:\n",
        "\n",
        "\n",
        "```\n",
        "class Par1:\n",
        "    #statements\n",
        "\n",
        "class Par2:\n",
        "    #statements\n",
        "\n",
        "class Var(Par1,Par2):\n",
        "    #statements\n",
        "```\n",
        "\n",
        "*here class Par1 and Par2 are two parent classes of class Var.\n",
        "Class Var can access all the methods and attributes from both parent classes.*\n",
        "\n",
        "\n",
        " For eg:"
      ],
      "metadata": {
        "id": "XtEdbFsopJHk"
      }
    },
    {
      "cell_type": "code",
      "source": [
        "class Class_A:\n",
        "  def __init__(self):                                                      #constructor of Class_A\n",
        "    pass\n",
        "\n",
        "  def greet():\n",
        "    print(\"This is first Parent class named Class_A.\")\n",
        "\n",
        "class Class_B():\n",
        "  def __init__(self):\n",
        "    pass\n",
        "  def welcome():\n",
        "    print(\"This is second Parent class named Class_B\")\n",
        "\n",
        "class Class_C(Class_A,Class_B):                                                    # argument of class_C is class_A and Class_B\n",
        "  def __init__(self):\n",
        "    pass\n",
        "  def info():\n",
        "    print(\"This is child class named Class_C\")\n",
        "\n",
        "obj = Class_C                                                              #Object of child class C\n",
        "\n",
        "obj.greet()                                                                # calling greet func of parent class\n",
        "obj.welcome()                                                              # calling welcome func of prent class\n",
        "obj.info()                                                                 # calling info func of child class itself."
      ],
      "metadata": {
        "colab": {
          "base_uri": "https://localhost:8080/"
        },
        "id": "d8pUZq6EpjsJ",
        "outputId": "c34ca530-1f81-47c6-e1d7-ca30982a47a2"
      },
      "execution_count": 40,
      "outputs": [
        {
          "output_type": "stream",
          "name": "stdout",
          "text": [
            "This is first Parent class named Class_A.\n",
            "This is second Parent class named Class_B\n",
            "This is child class named Class_C\n"
          ]
        }
      ]
    },
    {
      "cell_type": "markdown",
      "source": [
        " 3. *Multilevel Inheritance:*   In multilevel inheritance, a class is derived from another derived class. There exists multiple layers of inheritance.\n",
        "\n",
        "      Syntax:\n",
        "\n",
        "```\n",
        "class Class_A:\n",
        "    #expression.\n",
        "\n",
        "class Class_B(Class_A):\n",
        "    #expression.\n",
        "\n",
        "class Class_C(Class_B):\n",
        "    #expression.\n",
        "\n",
        "```\n",
        "\n",
        "4. *Hierarchical Inheritance:* This type of inheritance contains multiple derived classes that are inherited from a single base class. This is similar to the hierarchy within an organization.\n",
        "\n",
        "Syntax:\n",
        "\n",
        "```\n",
        "class Class_A:\n",
        "    #expression.\n",
        "\n",
        "class Class_B(Class_A):\n",
        "    #expression.\n",
        "\n",
        "class Class_C(Class_A):\n",
        "    #expression.\n",
        "\n",
        "class Class_D(Class_A):\n",
        "    #expression.\n",
        "```\n",
        "*here Class_A has multiple child class, this is called hierarchical Inheritance.*\n",
        "\n",
        "5. *Hybrid Inheritance:* Combination of two or more types of inheritance is called as Hybrid Inheritance. For instance, it could be a mix of single and multiple inheritance.\n",
        "\n",
        "Syntax:\n",
        "\n",
        "```\n",
        "class Class_A:\n",
        "    #expression.\n",
        "\n",
        "class Class_B(Class_A):\n",
        "    #expression.\n",
        "\n",
        "class Class_C(Class_A, Class_B):\n",
        "    #expression.\n",
        "\n",
        "```\n"
      ],
      "metadata": {
        "id": "i3Q-wjfj3_Sf"
      }
    },
    {
      "cell_type": "markdown",
      "source": [
        "**Q7. What is the Method Resolution Order (MRO) in Python? How can you retrieve it programmatically?**\n",
        "\n",
        "**Sol.**The MRO is the order in which base classes are looked up when searching for a method. This is particularly important in the context of multiple inheritance, where a class may inherit from more than one parent class. The MRO ensures that the correct method is called, following a specific algorithm to avoid ambiguity and maintain a consistent order.\n",
        "\n",
        "We can retrieve the MRO programmatically using the '__mro__' attribute or the 'mro()' method of a class.\n",
        "For example:\n"
      ],
      "metadata": {
        "id": "VwObvUJU7Q1c"
      }
    },
    {
      "cell_type": "code",
      "source": [
        "class Class_A:\n",
        "    pass\n",
        "\n",
        "class Class_B(Class_A):\n",
        "    pass\n",
        "\n",
        "class Class_C(Class_A):\n",
        "    pass\n",
        "\n",
        "class Class_D(Class_B,Class_C):\n",
        "    pass\n",
        "\n",
        "# Retrieve the MRO\n",
        "print(Class_D.__mro__)  # Using the __mro__ attribute\n",
        "print(Class_D.mro())    # Using the mro() method\n"
      ],
      "metadata": {
        "colab": {
          "base_uri": "https://localhost:8080/"
        },
        "id": "fx14enzl7NMt",
        "outputId": "2bc328a5-d981-4144-9314-47096ae55167"
      },
      "execution_count": 43,
      "outputs": [
        {
          "output_type": "stream",
          "name": "stdout",
          "text": [
            "(<class '__main__.Class_D'>, <class '__main__.Class_B'>, <class '__main__.Class_C'>, <class '__main__.Class_A'>, <class 'object'>)\n",
            "[<class '__main__.Class_D'>, <class '__main__.Class_B'>, <class '__main__.Class_C'>, <class '__main__.Class_A'>, <class 'object'>]\n"
          ]
        }
      ]
    },
    {
      "cell_type": "markdown",
      "source": [
        "This indicates that Python will first look in Class_D, then CLass_B, followed by Class_C, then Class_A, and finally the base object class."
      ],
      "metadata": {
        "id": "AblCm7PGQjwo"
      }
    },
    {
      "cell_type": "markdown",
      "source": [
        "**Q8.  Create an abstract base class `Shape` with an abstract method `area()`. Then create two subclasses\n",
        "`Circle` and `Rectangle` that implement the `area()` method.**\n"
      ],
      "metadata": {
        "id": "x9gAiqIXQyda"
      }
    },
    {
      "cell_type": "code",
      "source": [
        "from abc import ABC,abstractclassmethod\n",
        "class Shape(ABC):\n",
        "  \"\"\"This abstract class makes sure that its other class should have 'area' method defined in them or it will give error.\n",
        "  \"\"\"\n",
        "\n",
        "  @abstractclassmethod\n",
        "  def area(self):\n",
        "    pass\n",
        "\n",
        "class Circle(Shape):\n",
        "  def __init__(self,radius):\n",
        "    self.radius=radius\n",
        "\n",
        "  def area(self):\n",
        "    return 3.14*self.radius**2\n",
        "\n",
        "class Rectange(Shape):\n",
        "  def __init__(self,len,brth):\n",
        "    self.len = len\n",
        "    self.brth=brth\n",
        "\n",
        "  def area(self):\n",
        "    return self.len*self.brth\n",
        "\n",
        "c = Circle(5)\n",
        "print(\"Area of circle: \",c.area())\n",
        "\n",
        "rect = Rectange(6,7)\n",
        "print(\"Area of Rectange: \",rect.area())\n"
      ],
      "metadata": {
        "colab": {
          "base_uri": "https://localhost:8080/"
        },
        "id": "CloljlQARUq6",
        "outputId": "c77d7671-645b-4528-c323-89e4e191a500"
      },
      "execution_count": 49,
      "outputs": [
        {
          "output_type": "stream",
          "name": "stdout",
          "text": [
            "Area of circle:  78.5\n",
            "Area of Rectange:  42\n"
          ]
        }
      ]
    },
    {
      "cell_type": "markdown",
      "source": [
        "**Q9. Demonstrate polymorphism by creating a function that can work with different shape objects to calculate\n",
        "and print their areas.**\n",
        "\n",
        "**Sol.**"
      ],
      "metadata": {
        "id": "gPsL9sH5a4BL"
      }
    },
    {
      "cell_type": "code",
      "source": [
        "#class to calc area of circle\n",
        "class Circle:\n",
        "  def __init__(self, radius):\n",
        "    self.radius=radius\n",
        "\n",
        "  def area(self):\n",
        "    return 3.14*self.radius**2\n",
        "\n",
        "#class to calc area of square\n",
        "class Square:\n",
        "  def __init__(self,side):\n",
        "    self.side=side\n",
        "\n",
        "  def area(self):\n",
        "    return self.side**2\n",
        "\n",
        "#class to calc area of Rectangle\n",
        "class Rectangle:\n",
        "  def __init__(self,len,brth):\n",
        "    self.len=len\n",
        "    self.brth=brth\n",
        "\n",
        "  def area(self):\n",
        "    return self.len*self.brth\n",
        "\n",
        "#function to call area function in class\n",
        "def calculate(shape):\n",
        "  print(shape.area())\n",
        "\n",
        "cir = Circle(10)\n",
        "sqr = Square(8)\n",
        "rect= Rectange(5,9)\n",
        "\n",
        "calculate(cir)\n",
        "calculate(sqr)\n",
        "calculate(rect)\n"
      ],
      "metadata": {
        "colab": {
          "base_uri": "https://localhost:8080/"
        },
        "id": "i3nwhx6pcCmC",
        "outputId": "0102375e-b4ff-4caf-cded-312e4c823680"
      },
      "execution_count": 56,
      "outputs": [
        {
          "output_type": "stream",
          "name": "stdout",
          "text": [
            "314.0\n",
            "64\n",
            "45\n"
          ]
        }
      ]
    },
    {
      "cell_type": "markdown",
      "source": [
        "**Q10. Implement encapsulation in a `BankAccount` class with private attributes for `balance` and\n",
        "`account_number`. Include methods for deposit, withdrawal, and balance inquiry.**\n",
        "\n",
        "**Sol.** The methods and variable in python by default globally accessable.To restrict their access Encapsulation is used to make them private or protected.  "
      ],
      "metadata": {
        "id": "ho2pnsHJppK-"
      }
    },
    {
      "cell_type": "code",
      "source": [
        "class BankAccount:\n",
        "  def __init__(self,account_number,balance):\n",
        "    self.__account_number = account_number                   #private account_number\n",
        "    self.__balance = balance\n",
        "\n",
        "  def  deposit(self, val):\n",
        "    if val>0:\n",
        "      self.__balance = self.__balance + val\n",
        "    else :\n",
        "      print(\"Enter positive value\")\n",
        "\n",
        "  def withdrawal(self,val):\n",
        "    if self.__balance>0:\n",
        "      self.__balance = self.__balance - val\n",
        "\n",
        "    else: print(\"Insufficient fund\")\n",
        "\n",
        "  def inquery(self):\n",
        "    print(\"Balance: \",self.__balance)\n",
        "\n",
        "inq = BankAccount(1200045063 ,25000)\n",
        "inq.inquery()\n",
        "\n",
        "inq.withdrawal(10000)\n",
        "inq.inquery()\n",
        "\n",
        "inq.deposit(50000)\n",
        "inq.inquery()\n",
        ""
      ],
      "metadata": {
        "colab": {
          "base_uri": "https://localhost:8080/"
        },
        "id": "rp8gv0vFrcN2",
        "outputId": "b0766d07-5b71-4690-ef52-02752cfbfe5d"
      },
      "execution_count": 64,
      "outputs": [
        {
          "output_type": "stream",
          "name": "stdout",
          "text": [
            "Balance:  25000\n",
            "Balance:  15000\n",
            "Balance:  65000\n"
          ]
        }
      ]
    },
    {
      "cell_type": "markdown",
      "source": [
        "**Q11.  Write a class that overrides the `__str__` and `__add__` magic methods. What will these methods allow\n",
        "you to do?**\n",
        "\n",
        "**Sol.** Python Magic methods are the methods starting and ending with double underscores ‘__’. They are defined by built-in classes in Python and commonly used for operator overloading.\n",
        "\n",
        "They are also called Dunder methods."
      ],
      "metadata": {
        "id": "n94UlVSi4cWQ"
      }
    },
    {
      "cell_type": "code",
      "source": [
        "class Vector:\n",
        "    def __init__(self, x, y):\n",
        "        self.x = x\n",
        "        self.y = y\n",
        "\n",
        "    def __str__(self):\n",
        "        return f\"Vector({self.x}, {self.y})\"\n",
        "\n",
        "    def __add__(self, other):\n",
        "        if isinstance(other, Vector):\n",
        "            return Vector(self.x + other.x, self.y + other.y)\n",
        "        return NotImplemented\n",
        "\n",
        "\n",
        "v1 = Vector(2, 3)\n",
        "v2 = Vector(4, 5)\n",
        "\n",
        "print(v1)         # Output: Vector(2, 3)\n",
        "print(v2)         # Output: Vector(4, 5)\n",
        "\n",
        "v3 = v1 + v2\n",
        "print(v3)         # Output: Vector(6, 8)\n"
      ],
      "metadata": {
        "colab": {
          "base_uri": "https://localhost:8080/"
        },
        "id": "a62NgE1i4lvL",
        "outputId": "507945e6-5d86-44a2-8f47-6c274c8ae969"
      },
      "execution_count": 65,
      "outputs": [
        {
          "output_type": "stream",
          "name": "stdout",
          "text": [
            "Vector(2, 3)\n",
            "Vector(4, 5)\n",
            "Vector(6, 8)\n"
          ]
        }
      ]
    },
    {
      "cell_type": "markdown",
      "source": [
        "**Q12. . Create a decorator that measures and prints the execution time of a function**"
      ],
      "metadata": {
        "id": "4v5ejpRDIRLE"
      }
    },
    {
      "cell_type": "code",
      "source": [
        "import time\n",
        "from functools import wraps\n",
        "\n",
        "def timeit(func):\n",
        "    @wraps(func)\n",
        "    def wrapper(*args, **kwargs):\n",
        "        start_time = time.time()  # Start time\n",
        "        result = func(*args, **kwargs)  # Call the function\n",
        "        end_time = time.time()  # End time\n",
        "        execution_time = end_time - start_time  # Calculate execution time\n",
        "        print(f\"Execution time of '{func.__name__}': {execution_time:.6f} seconds\")\n",
        "        return result  # Return the result of the function\n",
        "    return wrapper\n",
        "\n",
        "# Example usage:\n",
        "@timeit\n",
        "def example_function(n):\n",
        "    total = 0\n",
        "    for i in range(n):\n",
        "        total += i\n",
        "    return total\n",
        "\n",
        "result = example_function(1000000)  # Call the decorated function"
      ],
      "metadata": {
        "colab": {
          "base_uri": "https://localhost:8080/"
        },
        "id": "HrVWQU1cIpOe",
        "outputId": "4aae99bd-49f5-434a-affb-54ea3b57d736"
      },
      "execution_count": 66,
      "outputs": [
        {
          "output_type": "stream",
          "name": "stdout",
          "text": [
            "Execution time of 'example_function': 0.070798 seconds\n"
          ]
        }
      ]
    },
    {
      "cell_type": "markdown",
      "source": [
        "**Q13.Explain the concept of the Diamond Problem in multiple inheritance. How does Python resolve it?**\n",
        "\n",
        "**Sol.**Diamond problem occurs when a class inherits from two classes that both inherit from a common superclass. This can create ambiguity in the **method resolution order (MRO)**, as the derived class may inherit attributes and methods from both parent classes.\n",
        "\n",
        "\n",
        "```\n",
        "      A\n",
        "     / \\\n",
        "    B   C\n",
        "     \\ /\n",
        "      D\n",
        "```\n",
        "\n",
        "* Class A is the base class.\n",
        "* Classes B and C inherit from A.\n",
        "* Class D inherits from both B and C.\n",
        "* If D tries to access a method or attribute from A, it can be unclear whether to use the method from B or C, since both might have overridden the method inherited from A.\n",
        "\n",
        "Python uses the **C3 Linearization algorithm** to resolve the Diamond Problem. This algorithm creates a linear order of classes, allowing Python to determine the order in which base classes should be searched for methods and attributes.\n",
        "**eg:**"
      ],
      "metadata": {
        "id": "SY0121I3J5fP"
      }
    },
    {
      "cell_type": "code",
      "source": [
        "class Class_A:\n",
        "    def var(self):\n",
        "      return \"Hi its Class_A\"\n",
        "\n",
        "class Class_B(Class_A):\n",
        "    def var(self):\n",
        "      return \"Hi its Class_B\"\n",
        "\n",
        "class Class_C(Class_A):\n",
        "    def var(self):\n",
        "      return \"Hi its Class_C\"\n",
        "\n",
        "class Class_D(Class_B,Class_C):\n",
        "    def var(self):\n",
        "      return \"Hi its Class_D\"\n",
        "\n",
        "obj = Class_D()\n",
        "# Retrieve the MRO\n",
        "print(Class_D.__mro__)  # Using the __mro__ attribute\n",
        "print(obj.var())    #calling greet to check"
      ],
      "metadata": {
        "colab": {
          "base_uri": "https://localhost:8080/"
        },
        "id": "MnFvSFazb-ko",
        "outputId": "768359e0-e38a-411d-ea72-b8e763b9fc56"
      },
      "execution_count": 68,
      "outputs": [
        {
          "output_type": "stream",
          "name": "stdout",
          "text": [
            "(<class '__main__.Class_D'>, <class '__main__.Class_B'>, <class '__main__.Class_C'>, <class '__main__.Class_A'>, <class 'object'>)\n",
            "Hi its Class_D\n"
          ]
        }
      ]
    },
    {
      "cell_type": "markdown",
      "source": [
        "**Q14. Write a class method that keeps track of the number of instances created from a class.**"
      ],
      "metadata": {
        "id": "xpJCkAVIc-22"
      }
    },
    {
      "cell_type": "code",
      "source": [
        "class Counter:\n",
        "  count = 0\n",
        "\n",
        "  def __init__(self):\n",
        "    \tCounter.count += 1                                # increment count by one for each new instance\n",
        "\n",
        "  @classmethod\n",
        "  def instance_count(cls):\n",
        "    return cls.count                                     # Return the current count of instances\n",
        "\n",
        "obj1 = Counter()\n",
        "obj2 = Counter()\n",
        "obj3 = Counter()\n",
        "\n",
        "print(\"Total number of instances created:\", Counter.instance_count())"
      ],
      "metadata": {
        "colab": {
          "base_uri": "https://localhost:8080/"
        },
        "id": "l1O9z6j_eJfK",
        "outputId": "6f7dba33-af33-46d4-f0fc-861011a4de93"
      },
      "execution_count": 69,
      "outputs": [
        {
          "output_type": "stream",
          "name": "stdout",
          "text": [
            "Total number of instances created: 3\n"
          ]
        }
      ]
    },
    {
      "cell_type": "markdown",
      "source": [
        "**Q15. Implement a static method in a class that checks if a given year is a leap year**"
      ],
      "metadata": {
        "id": "w2wSPwk5gnak"
      }
    },
    {
      "cell_type": "code",
      "source": [
        "class Leap_year:\n",
        "    @staticmethod\n",
        "    def check(year):\n",
        "      if (year%4==0 and year%100 !=0) or (year%400==0):\n",
        "        return True\n",
        "      else:\n",
        "        return False\n",
        "\n",
        "year = int(input(\"Enter Year: \"))\n",
        "\n",
        "Leap_year.check(year)\n"
      ],
      "metadata": {
        "colab": {
          "base_uri": "https://localhost:8080/"
        },
        "id": "nL9SWKPihMRA",
        "outputId": "ecaec0d9-8c77-4117-fe1b-f2dbcfd911be"
      },
      "execution_count": 74,
      "outputs": [
        {
          "name": "stdout",
          "output_type": "stream",
          "text": [
            "Enter Year: 2004\n"
          ]
        },
        {
          "output_type": "execute_result",
          "data": {
            "text/plain": [
              "True"
            ]
          },
          "metadata": {},
          "execution_count": 74
        }
      ]
    }
  ]
}